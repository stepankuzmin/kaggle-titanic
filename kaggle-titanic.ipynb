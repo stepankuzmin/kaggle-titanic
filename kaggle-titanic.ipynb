{
 "cells": [
  {
   "cell_type": "code",
   "execution_count": 2,
   "metadata": {
    "collapsed": true
   },
   "outputs": [],
   "source": [
    "import csv as csv \n",
    "import numpy as np"
   ]
  },
  {
   "cell_type": "code",
   "execution_count": 5,
   "metadata": {
    "collapsed": false
   },
   "outputs": [],
   "source": [
    "train_csv = csv.reader(open('train.csv', 'rb'))\n",
    "header = train_csv.next()"
   ]
  },
  {
   "cell_type": "code",
   "execution_count": 7,
   "metadata": {
    "collapsed": false
   },
   "outputs": [],
   "source": [
    "data = []\n",
    "for row in train_csv:\n",
    "    data.append(row)\n",
    "data = np.array(data)"
   ]
  },
  {
   "cell_type": "code",
   "execution_count": 14,
   "metadata": {
    "collapsed": false,
    "scrolled": true
   },
   "outputs": [
    {
     "data": {
      "text/plain": [
       "0.38383838383838381"
      ]
     },
     "execution_count": 14,
     "metadata": {},
     "output_type": "execute_result"
    }
   ],
   "source": [
    "passengers_count = np.size(data[0::, 1].astype(np.float))\n",
    "survived_count = np.sum(data[0::, 1].astype(np.float))\n",
    "survivors_proportion = survived_count / passengers_count\n",
    "survivors_proportion"
   ]
  },
  {
   "cell_type": "code",
   "execution_count": 16,
   "metadata": {
    "collapsed": true
   },
   "outputs": [],
   "source": [
    "women_only_stats = data[0::, 4] == \"female\"\n",
    "men_only_stats = data[0::, 4] != \"female\""
   ]
  },
  {
   "cell_type": "code",
   "execution_count": 18,
   "metadata": {
    "collapsed": false
   },
   "outputs": [
    {
     "name": "stdout",
     "output_type": "stream",
     "text": [
      "Proportion of women who survived is 0.742038216561\n",
      "Proportion of men who survived is 0.188908145581\n"
     ]
    }
   ],
   "source": [
    "women_onboard = data[women_only_stats, 1].astype(np.float)\n",
    "men_onboard = data[men_only_stats, 1].astype(np.float)\n",
    "\n",
    "survived_womens_proportion = np.sum(women_onboard) / np.size(women_onboard)\n",
    "survived_mens_proportion = np.sum(men_onboard) / np.size(men_onboard)\n",
    "\n",
    "print 'Proportion of women who survived is %s' % survived_womens_proportion\n",
    "print 'Proportion of men who survived is %s' % survived_mens_proportion"
   ]
  },
  {
   "cell_type": "code",
   "execution_count": 55,
   "metadata": {
    "collapsed": false
   },
   "outputs": [],
   "source": [
    "test_csv = open('test.csv', 'rb')\n",
    "test_object = csv.reader(test_csv)\n",
    "header = test_object.next()"
   ]
  },
  {
   "cell_type": "code",
   "execution_count": 56,
   "metadata": {
    "collapsed": true
   },
   "outputs": [],
   "source": [
    "prediction_csv = open('genderbasedmodel.csv', 'wb')\n",
    "prediction_object = csv.writer(prediction_csv)"
   ]
  },
  {
   "cell_type": "code",
   "execution_count": 57,
   "metadata": {
    "collapsed": false
   },
   "outputs": [],
   "source": [
    "prediction_object.writerow(['PassengerId', 'Survived'])\n",
    "for row in test_object:\n",
    "    if row[3] == 'female':\n",
    "        prediction_object.writerow([row[0], '1'])\n",
    "    else:\n",
    "        prediction_object.writerow([row[0], '0'])\n",
    "test_csv.close()\n",
    "prediction_csv.close()"
   ]
  },
  {
   "cell_type": "code",
   "execution_count": null,
   "metadata": {
    "collapsed": true
   },
   "outputs": [],
   "source": []
  }
 ],
 "metadata": {
  "kernelspec": {
   "display_name": "Python 2",
   "language": "python",
   "name": "python2"
  },
  "language_info": {
   "codemirror_mode": {
    "name": "ipython",
    "version": 2
   },
   "file_extension": ".py",
   "mimetype": "text/x-python",
   "name": "python",
   "nbconvert_exporter": "python",
   "pygments_lexer": "ipython2",
   "version": "2.7.12"
  }
 },
 "nbformat": 4,
 "nbformat_minor": 1
}
